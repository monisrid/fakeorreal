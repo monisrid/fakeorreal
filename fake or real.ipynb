{
 "cells": [
  {
   "cell_type": "code",
   "execution_count": 1,
   "id": "949ed079",
   "metadata": {},
   "outputs": [
    {
     "ename": "ModuleNotFoundError",
     "evalue": "No module named 'numpy'",
     "output_type": "error",
     "traceback": [
      "\u001b[1;31m---------------------------------------------------------------------------\u001b[0m",
      "\u001b[1;31mModuleNotFoundError\u001b[0m                       Traceback (most recent call last)",
      "Cell \u001b[1;32mIn[1], line 1\u001b[0m\n\u001b[1;32m----> 1\u001b[0m \u001b[38;5;28;01mimport\u001b[39;00m \u001b[38;5;21;01mnumpy\u001b[39;00m \u001b[38;5;28;01mas\u001b[39;00m \u001b[38;5;21;01mnp\u001b[39;00m\n",
      "\u001b[1;31mModuleNotFoundError\u001b[0m: No module named 'numpy'"
     ]
    }
   ],
   "source": [
    "import numpy as np\n"
   ]
  },
  {
   "cell_type": "code",
   "execution_count": 2,
   "id": "49921636",
   "metadata": {},
   "outputs": [
    {
     "name": "stdout",
     "output_type": "stream",
     "text": [
      "Collecting numpy\n",
      "  Downloading numpy-1.25.1-cp311-cp311-win_amd64.whl (15.0 MB)\n",
      "                                              0.0/15.0 MB ? eta -:--:--\n",
      "                                              0.3/15.0 MB 6.8 MB/s eta 0:00:03\n",
      "     -                                        0.7/15.0 MB 8.3 MB/s eta 0:00:02\n",
      "     --                                       1.1/15.0 MB 8.8 MB/s eta 0:00:02\n",
      "     ----                                     1.5/15.0 MB 8.9 MB/s eta 0:00:02\n",
      "     -----                                    2.0/15.0 MB 8.9 MB/s eta 0:00:02\n",
      "     ------                                   2.4/15.0 MB 9.0 MB/s eta 0:00:02\n",
      "     -------                                  2.8/15.0 MB 9.0 MB/s eta 0:00:02\n",
      "     --------                                 3.1/15.0 MB 9.1 MB/s eta 0:00:02\n",
      "     --------                                 3.2/15.0 MB 7.9 MB/s eta 0:00:02\n",
      "     ---------                                3.6/15.0 MB 7.9 MB/s eta 0:00:02\n",
      "     ----------                               4.0/15.0 MB 8.2 MB/s eta 0:00:02\n",
      "     -----------                              4.3/15.0 MB 8.1 MB/s eta 0:00:02\n",
      "     ------------                             4.8/15.0 MB 8.2 MB/s eta 0:00:02\n",
      "     -------------                            5.1/15.0 MB 8.1 MB/s eta 0:00:02\n",
      "     --------------                           5.3/15.0 MB 7.9 MB/s eta 0:00:02\n",
      "     ---------------                          5.7/15.0 MB 8.0 MB/s eta 0:00:02\n",
      "     ----------------                         6.0/15.0 MB 7.8 MB/s eta 0:00:02\n",
      "     -----------------                        6.4/15.0 MB 7.9 MB/s eta 0:00:02\n",
      "     -----------------                        6.7/15.0 MB 7.8 MB/s eta 0:00:02\n",
      "     ------------------                       7.1/15.0 MB 7.8 MB/s eta 0:00:02\n",
      "     -------------------                      7.4/15.0 MB 7.7 MB/s eta 0:00:01\n",
      "     --------------------                     7.8/15.0 MB 7.7 MB/s eta 0:00:01\n",
      "     ---------------------                    8.1/15.0 MB 7.6 MB/s eta 0:00:01\n",
      "     ----------------------                   8.4/15.0 MB 7.6 MB/s eta 0:00:01\n",
      "     -----------------------                  8.8/15.0 MB 7.7 MB/s eta 0:00:01\n",
      "     ------------------------                 9.2/15.0 MB 7.7 MB/s eta 0:00:01\n",
      "     -------------------------                9.6/15.0 MB 7.7 MB/s eta 0:00:01\n",
      "     --------------------------               10.0/15.0 MB 7.7 MB/s eta 0:00:01\n",
      "     ---------------------------              10.5/15.0 MB 7.8 MB/s eta 0:00:01\n",
      "     ----------------------------             10.9/15.0 MB 7.7 MB/s eta 0:00:01\n",
      "     -----------------------------            11.3/15.0 MB 7.8 MB/s eta 0:00:01\n",
      "     ------------------------------           11.6/15.0 MB 7.6 MB/s eta 0:00:01\n",
      "     -------------------------------          12.0/15.0 MB 7.7 MB/s eta 0:00:01\n",
      "     --------------------------------         12.4/15.0 MB 7.8 MB/s eta 0:00:01\n",
      "     ----------------------------------       12.8/15.0 MB 7.7 MB/s eta 0:00:01\n",
      "     -----------------------------------      13.3/15.0 MB 7.8 MB/s eta 0:00:01\n",
      "     ------------------------------------     13.7/15.0 MB 8.1 MB/s eta 0:00:01\n",
      "     -------------------------------------    14.1/15.0 MB 8.1 MB/s eta 0:00:01\n",
      "     --------------------------------------   14.5/15.0 MB 8.1 MB/s eta 0:00:01\n",
      "     ---------------------------------------  15.0/15.0 MB 8.0 MB/s eta 0:00:01\n",
      "     ---------------------------------------  15.0/15.0 MB 8.1 MB/s eta 0:00:01\n",
      "     ---------------------------------------- 15.0/15.0 MB 7.7 MB/s eta 0:00:00\n",
      "Installing collected packages: numpy\n",
      "Successfully installed numpy-1.25.1\n"
     ]
    }
   ],
   "source": [
    "!pip install numpy"
   ]
  },
  {
   "cell_type": "code",
   "execution_count": 3,
   "id": "fb66cfe7",
   "metadata": {},
   "outputs": [],
   "source": [
    "import numpy as np\n"
   ]
  },
  {
   "cell_type": "code",
   "execution_count": 4,
   "id": "c745dcf6",
   "metadata": {},
   "outputs": [
    {
     "ename": "ModuleNotFoundError",
     "evalue": "No module named 'pandas'",
     "output_type": "error",
     "traceback": [
      "\u001b[1;31m---------------------------------------------------------------------------\u001b[0m",
      "\u001b[1;31mModuleNotFoundError\u001b[0m                       Traceback (most recent call last)",
      "Cell \u001b[1;32mIn[4], line 2\u001b[0m\n\u001b[0;32m      1\u001b[0m \u001b[38;5;28;01mimport\u001b[39;00m \u001b[38;5;21;01mnumpy\u001b[39;00m \u001b[38;5;28;01mas\u001b[39;00m \u001b[38;5;21;01mnp\u001b[39;00m\n\u001b[1;32m----> 2\u001b[0m \u001b[38;5;28;01mimport\u001b[39;00m \u001b[38;5;21;01mpandas\u001b[39;00m \u001b[38;5;28;01mas\u001b[39;00m \u001b[38;5;21;01mpd\u001b[39;00m\n",
      "\u001b[1;31mModuleNotFoundError\u001b[0m: No module named 'pandas'"
     ]
    }
   ],
   "source": [
    "import numpy as np\n",
    "import pandas as pd"
   ]
  },
  {
   "cell_type": "code",
   "execution_count": 5,
   "id": "c352645c",
   "metadata": {},
   "outputs": [
    {
     "name": "stdout",
     "output_type": "stream",
     "text": [
      "Collecting pandas\n",
      "  Downloading pandas-2.0.3-cp311-cp311-win_amd64.whl (10.6 MB)\n",
      "                                              0.0/10.6 MB ? eta -:--:--\n",
      "     -                                        0.4/10.6 MB 7.4 MB/s eta 0:00:02\n",
      "     ---                                      0.8/10.6 MB 10.4 MB/s eta 0:00:01\n",
      "     ----                                     1.2/10.6 MB 9.9 MB/s eta 0:00:01\n",
      "     ------                                   1.7/10.6 MB 9.6 MB/s eta 0:00:01\n",
      "     --------                                 2.1/10.6 MB 9.7 MB/s eta 0:00:01\n",
      "     ---------                                2.6/10.6 MB 9.6 MB/s eta 0:00:01\n",
      "     -----------                              3.0/10.6 MB 9.6 MB/s eta 0:00:01\n",
      "     -------------                            3.5/10.6 MB 9.6 MB/s eta 0:00:01\n",
      "     --------------                           3.9/10.6 MB 9.5 MB/s eta 0:00:01\n",
      "     ----------------                         4.4/10.6 MB 9.6 MB/s eta 0:00:01\n",
      "     -----------------                        4.8/10.6 MB 9.5 MB/s eta 0:00:01\n",
      "     -------------------                      5.2/10.6 MB 9.5 MB/s eta 0:00:01\n",
      "     -------------------                      5.3/10.6 MB 9.4 MB/s eta 0:00:01\n",
      "     ----------------------                   6.0/10.6 MB 9.3 MB/s eta 0:00:01\n",
      "     -----------------------                  6.2/10.6 MB 8.9 MB/s eta 0:00:01\n",
      "     --------------------------               6.9/10.6 MB 9.2 MB/s eta 0:00:01\n",
      "     ---------------------------              7.3/10.6 MB 9.2 MB/s eta 0:00:01\n",
      "     -----------------------------            7.9/10.6 MB 9.3 MB/s eta 0:00:01\n",
      "     -------------------------------          8.3/10.6 MB 9.3 MB/s eta 0:00:01\n",
      "     --------------------------------         8.7/10.6 MB 9.3 MB/s eta 0:00:01\n",
      "     ----------------------------------       9.0/10.6 MB 9.2 MB/s eta 0:00:01\n",
      "     -----------------------------------      9.5/10.6 MB 9.2 MB/s eta 0:00:01\n",
      "     ------------------------------------     9.7/10.6 MB 9.0 MB/s eta 0:00:01\n",
      "     --------------------------------------   10.2/10.6 MB 9.2 MB/s eta 0:00:01\n",
      "     ---------------------------------------  10.6/10.6 MB 9.0 MB/s eta 0:00:01\n",
      "     ---------------------------------------  10.6/10.6 MB 9.1 MB/s eta 0:00:01\n",
      "     ---------------------------------------- 10.6/10.6 MB 8.7 MB/s eta 0:00:00\n",
      "Requirement already satisfied: python-dateutil>=2.8.2 in c:\\users\\lenovo\\appdata\\local\\programs\\python\\python311\\lib\\site-packages (from pandas) (2.8.2)\n",
      "Collecting pytz>=2020.1 (from pandas)\n",
      "  Downloading pytz-2023.3-py2.py3-none-any.whl (502 kB)\n",
      "                                              0.0/502.3 kB ? eta -:--:--\n",
      "     ------------------------------        409.6/502.3 kB 12.9 MB/s eta 0:00:01\n",
      "     ------------------------------------- 502.3/502.3 kB 15.9 MB/s eta 0:00:00\n",
      "Collecting tzdata>=2022.1 (from pandas)\n",
      "  Downloading tzdata-2023.3-py2.py3-none-any.whl (341 kB)\n",
      "                                              0.0/341.8 kB ? eta -:--:--\n",
      "     ------------------------------------- 341.8/341.8 kB 10.7 MB/s eta 0:00:00\n",
      "Requirement already satisfied: numpy>=1.21.0 in c:\\users\\lenovo\\appdata\\local\\programs\\python\\python311\\lib\\site-packages (from pandas) (1.25.1)\n",
      "Requirement already satisfied: six>=1.5 in c:\\users\\lenovo\\appdata\\local\\programs\\python\\python311\\lib\\site-packages (from python-dateutil>=2.8.2->pandas) (1.16.0)\n",
      "Installing collected packages: pytz, tzdata, pandas\n",
      "Successfully installed pandas-2.0.3 pytz-2023.3 tzdata-2023.3\n"
     ]
    }
   ],
   "source": [
    "!pip install pandas\n"
   ]
  },
  {
   "cell_type": "code",
   "execution_count": 6,
   "id": "fc0f864e",
   "metadata": {},
   "outputs": [
    {
     "name": "stdout",
     "output_type": "stream",
     "text": [
      "Collecting sklearn\n",
      "  Downloading sklearn-0.0.post5.tar.gz (3.7 kB)\n",
      "  Preparing metadata (setup.py): started\n",
      "  Preparing metadata (setup.py): finished with status 'error'\n"
     ]
    },
    {
     "name": "stderr",
     "output_type": "stream",
     "text": [
      "  error: subprocess-exited-with-error\n",
      "  \n",
      "  python setup.py egg_info did not run successfully.\n",
      "  exit code: 1\n",
      "  \n",
      "  [18 lines of output]\n",
      "  The 'sklearn' PyPI package is deprecated, use 'scikit-learn'\n",
      "  rather than 'sklearn' for pip commands.\n",
      "  \n",
      "  Here is how to fix this error in the main use cases:\n",
      "  - use 'pip install scikit-learn' rather than 'pip install sklearn'\n",
      "  - replace 'sklearn' by 'scikit-learn' in your pip requirements files\n",
      "    (requirements.txt, setup.py, setup.cfg, Pipfile, etc ...)\n",
      "  - if the 'sklearn' package is used by one of your dependencies,\n",
      "    it would be great if you take some time to track which package uses\n",
      "    'sklearn' instead of 'scikit-learn' and report it to their issue tracker\n",
      "  - as a last resort, set the environment variable\n",
      "    SKLEARN_ALLOW_DEPRECATED_SKLEARN_PACKAGE_INSTALL=True to avoid this error\n",
      "  \n",
      "  More information is available at\n",
      "  https://github.com/scikit-learn/sklearn-pypi-package\n",
      "  \n",
      "  If the previous advice does not cover your use case, feel free to report it at\n",
      "  https://github.com/scikit-learn/sklearn-pypi-package/issues/new\n",
      "  [end of output]\n",
      "  \n",
      "  note: This error originates from a subprocess, and is likely not a problem with pip.\n",
      "error: metadata-generation-failed\n",
      "\n",
      "Encountered error while generating package metadata.\n",
      "\n",
      "See above for output.\n",
      "\n",
      "note: This is an issue with the package mentioned above, not pip.\n",
      "hint: See above for details.\n"
     ]
    }
   ],
   "source": [
    "!pip install sklearn"
   ]
  },
  {
   "cell_type": "code",
   "execution_count": 7,
   "id": "3f63ccd2",
   "metadata": {},
   "outputs": [
    {
     "name": "stdout",
     "output_type": "stream",
     "text": [
      "Collecting scikit-learn\n",
      "  Downloading scikit_learn-1.3.0-cp311-cp311-win_amd64.whl (9.2 MB)\n",
      "                                              0.0/9.2 MB ? eta -:--:--\n",
      "     -                                        0.4/9.2 MB 7.6 MB/s eta 0:00:02\n",
      "     --                                       0.7/9.2 MB 8.4 MB/s eta 0:00:02\n",
      "     ----                                     1.1/9.2 MB 8.9 MB/s eta 0:00:01\n",
      "     -------                                  1.6/9.2 MB 9.3 MB/s eta 0:00:01\n",
      "     --------                                 2.1/9.2 MB 9.4 MB/s eta 0:00:01\n",
      "     ----------                               2.4/9.2 MB 9.2 MB/s eta 0:00:01\n",
      "     ------------                             2.9/9.2 MB 9.2 MB/s eta 0:00:01\n",
      "     --------------                           3.3/9.2 MB 9.2 MB/s eta 0:00:01\n",
      "     ----------------                         3.7/9.2 MB 9.2 MB/s eta 0:00:01\n",
      "     ------------------                       4.2/9.2 MB 9.3 MB/s eta 0:00:01\n",
      "     ------------------                       4.4/9.2 MB 9.3 MB/s eta 0:00:01\n",
      "     ---------------------                    4.9/9.2 MB 8.9 MB/s eta 0:00:01\n",
      "     -----------------------                  5.3/9.2 MB 8.9 MB/s eta 0:00:01\n",
      "     -------------------------                5.9/9.2 MB 9.2 MB/s eta 0:00:01\n",
      "     ---------------------------              6.3/9.2 MB 9.2 MB/s eta 0:00:01\n",
      "     -----------------------------            6.9/9.2 MB 9.3 MB/s eta 0:00:01\n",
      "     -------------------------------          7.2/9.2 MB 9.2 MB/s eta 0:00:01\n",
      "     ---------------------------------        7.8/9.2 MB 9.4 MB/s eta 0:00:01\n",
      "     -----------------------------------      8.0/9.2 MB 9.2 MB/s eta 0:00:01\n",
      "     ------------------------------------     8.3/9.2 MB 9.2 MB/s eta 0:00:01\n",
      "     -------------------------------------    8.6/9.2 MB 9.2 MB/s eta 0:00:01\n",
      "     --------------------------------------   8.9/9.2 MB 8.9 MB/s eta 0:00:01\n",
      "     ---------------------------------------  9.2/9.2 MB 8.9 MB/s eta 0:00:01\n",
      "     ---------------------------------------- 9.2/9.2 MB 8.5 MB/s eta 0:00:00\n",
      "Requirement already satisfied: numpy>=1.17.3 in c:\\users\\lenovo\\appdata\\local\\programs\\python\\python311\\lib\\site-packages (from scikit-learn) (1.25.1)\n",
      "Collecting scipy>=1.5.0 (from scikit-learn)\n",
      "  Downloading scipy-1.11.1-cp311-cp311-win_amd64.whl (44.0 MB)\n",
      "                                              0.0/44.0 MB ? eta -:--:--\n",
      "                                              0.3/44.0 MB 10.6 MB/s eta 0:00:05\n",
      "                                              0.8/44.0 MB 9.6 MB/s eta 0:00:05\n",
      "     -                                        1.2/44.0 MB 10.9 MB/s eta 0:00:04\n",
      "     -                                        1.6/44.0 MB 9.6 MB/s eta 0:00:05\n",
      "     -                                        2.1/44.0 MB 9.6 MB/s eta 0:00:05\n",
      "     --                                       2.5/44.0 MB 9.5 MB/s eta 0:00:05\n",
      "     --                                       3.0/44.0 MB 9.5 MB/s eta 0:00:05\n",
      "     ---                                      3.4/44.0 MB 9.6 MB/s eta 0:00:05\n",
      "     ---                                      3.9/44.0 MB 9.5 MB/s eta 0:00:05\n",
      "     ---                                      4.3/44.0 MB 9.7 MB/s eta 0:00:05\n",
      "     ----                                     4.7/44.0 MB 9.4 MB/s eta 0:00:05\n",
      "     ----                                     5.1/44.0 MB 9.4 MB/s eta 0:00:05\n",
      "     -----                                    5.6/44.0 MB 9.4 MB/s eta 0:00:05\n",
      "     -----                                    6.0/44.0 MB 9.4 MB/s eta 0:00:05\n",
      "     -----                                    6.5/44.0 MB 9.6 MB/s eta 0:00:04\n",
      "     ------                                   7.0/44.0 MB 9.7 MB/s eta 0:00:04\n",
      "     ------                                   7.5/44.0 MB 9.6 MB/s eta 0:00:04\n",
      "     -------                                  8.0/44.0 MB 9.6 MB/s eta 0:00:04\n",
      "     -------                                  8.4/44.0 MB 9.8 MB/s eta 0:00:04\n",
      "     --------                                 8.9/44.0 MB 9.9 MB/s eta 0:00:04\n",
      "     --------                                 9.4/44.0 MB 9.8 MB/s eta 0:00:04\n",
      "     --------                                10.0/44.0 MB 10.0 MB/s eta 0:00:04\n",
      "     ---------                                10.5/44.0 MB 9.9 MB/s eta 0:00:04\n",
      "     ----------                               11.0/44.0 MB 9.9 MB/s eta 0:00:04\n",
      "     ----------                               11.5/44.0 MB 9.9 MB/s eta 0:00:04\n",
      "     ----------                              12.1/44.0 MB 10.1 MB/s eta 0:00:04\n",
      "     -----------                             12.6/44.0 MB 10.2 MB/s eta 0:00:04\n",
      "     -----------                             13.1/44.0 MB 10.2 MB/s eta 0:00:04\n",
      "     ------------                            13.6/44.0 MB 10.2 MB/s eta 0:00:03\n",
      "     ------------                            14.1/44.0 MB 10.4 MB/s eta 0:00:03\n",
      "     -------------                           14.7/44.0 MB 10.4 MB/s eta 0:00:03\n",
      "     -------------                           15.2/44.0 MB 10.6 MB/s eta 0:00:03\n",
      "     --------------                          15.8/44.0 MB 10.9 MB/s eta 0:00:03\n",
      "     --------------                          16.2/44.0 MB 10.7 MB/s eta 0:00:03\n",
      "     --------------                          16.7/44.0 MB 10.7 MB/s eta 0:00:03\n",
      "     ---------------                         17.1/44.0 MB 10.9 MB/s eta 0:00:03\n",
      "     ---------------                         17.7/44.0 MB 10.7 MB/s eta 0:00:03\n",
      "     ----------------                        18.1/44.0 MB 10.7 MB/s eta 0:00:03\n",
      "     ----------------                        18.6/44.0 MB 10.7 MB/s eta 0:00:03\n",
      "     ----------------                        19.1/44.0 MB 10.7 MB/s eta 0:00:03\n",
      "     -----------------                       19.7/44.0 MB 10.9 MB/s eta 0:00:03\n",
      "     -----------------                       20.2/44.0 MB 10.7 MB/s eta 0:00:03\n",
      "     ------------------                      20.6/44.0 MB 10.6 MB/s eta 0:00:03\n",
      "     ------------------                      21.1/44.0 MB 10.6 MB/s eta 0:00:03\n",
      "     -------------------                     21.6/44.0 MB 10.7 MB/s eta 0:00:03\n",
      "     -------------------                     22.1/44.0 MB 10.7 MB/s eta 0:00:03\n",
      "     --------------------                    22.7/44.0 MB 10.7 MB/s eta 0:00:02\n",
      "     --------------------                    23.2/44.0 MB 10.7 MB/s eta 0:00:02\n",
      "     ---------------------                   23.7/44.0 MB 10.7 MB/s eta 0:00:02\n",
      "     ---------------------                   24.2/44.0 MB 10.7 MB/s eta 0:00:02\n",
      "     ---------------------                   24.8/44.0 MB 10.9 MB/s eta 0:00:02\n",
      "     ----------------------                  25.3/44.0 MB 10.9 MB/s eta 0:00:02\n",
      "     ----------------------                  25.8/44.0 MB 10.9 MB/s eta 0:00:02\n",
      "     -----------------------                 26.4/44.0 MB 10.9 MB/s eta 0:00:02\n",
      "     -----------------------                 27.0/44.0 MB 10.7 MB/s eta 0:00:02\n",
      "     ------------------------                27.4/44.0 MB 10.9 MB/s eta 0:00:02\n",
      "     ------------------------                28.0/44.0 MB 11.1 MB/s eta 0:00:02\n",
      "     -------------------------               28.5/44.0 MB 11.1 MB/s eta 0:00:02\n",
      "     -------------------------               29.0/44.0 MB 11.3 MB/s eta 0:00:02\n",
      "     --------------------------              29.6/44.0 MB 11.1 MB/s eta 0:00:02\n",
      "     --------------------------              30.0/44.0 MB 11.1 MB/s eta 0:00:02\n",
      "     ---------------------------             30.5/44.0 MB 11.1 MB/s eta 0:00:02\n",
      "     ---------------------------             31.1/44.0 MB 11.3 MB/s eta 0:00:02\n",
      "     ----------------------------            31.7/44.0 MB 11.3 MB/s eta 0:00:02\n",
      "     ----------------------------            32.2/44.0 MB 11.3 MB/s eta 0:00:02\n",
      "     -----------------------------           32.7/44.0 MB 11.1 MB/s eta 0:00:02\n",
      "     -----------------------------           33.2/44.0 MB 11.3 MB/s eta 0:00:01\n",
      "     -----------------------------           33.5/44.0 MB 11.1 MB/s eta 0:00:01\n",
      "     -----------------------------           33.7/44.0 MB 10.7 MB/s eta 0:00:01\n",
      "     ------------------------------          34.3/44.0 MB 10.6 MB/s eta 0:00:01\n",
      "     ------------------------------          34.9/44.0 MB 10.7 MB/s eta 0:00:01\n",
      "     -------------------------------         35.4/44.0 MB 10.6 MB/s eta 0:00:01\n",
      "     -------------------------------         35.7/44.0 MB 10.7 MB/s eta 0:00:01\n",
      "     --------------------------------        36.5/44.0 MB 10.9 MB/s eta 0:00:01\n",
      "     --------------------------------        37.0/44.0 MB 10.7 MB/s eta 0:00:01\n",
      "     ---------------------------------       37.6/44.0 MB 10.9 MB/s eta 0:00:01\n",
      "     ---------------------------------       38.1/44.0 MB 10.7 MB/s eta 0:00:01\n",
      "     ----------------------------------      38.6/44.0 MB 10.7 MB/s eta 0:00:01\n",
      "     ----------------------------------      39.0/44.0 MB 10.7 MB/s eta 0:00:01\n",
      "     -----------------------------------     39.5/44.0 MB 10.6 MB/s eta 0:00:01\n",
      "     -----------------------------------     40.1/44.0 MB 10.9 MB/s eta 0:00:01\n",
      "     ------------------------------------    40.6/44.0 MB 10.7 MB/s eta 0:00:01\n",
      "     ------------------------------------    41.2/44.0 MB 10.6 MB/s eta 0:00:01\n",
      "     -------------------------------------   41.7/44.0 MB 10.9 MB/s eta 0:00:01\n",
      "     -------------------------------------   42.3/44.0 MB 10.6 MB/s eta 0:00:01\n",
      "     -------------------------------------   42.8/44.0 MB 10.7 MB/s eta 0:00:01\n",
      "     --------------------------------------  43.3/44.0 MB 10.9 MB/s eta 0:00:01\n",
      "     --------------------------------------  43.7/44.0 MB 10.7 MB/s eta 0:00:01\n",
      "     --------------------------------------  44.0/44.0 MB 11.1 MB/s eta 0:00:01\n",
      "     --------------------------------------  44.0/44.0 MB 11.1 MB/s eta 0:00:01\n",
      "     --------------------------------------  44.0/44.0 MB 11.1 MB/s eta 0:00:01\n",
      "     ---------------------------------------- 44.0/44.0 MB 9.3 MB/s eta 0:00:00\n",
      "Collecting joblib>=1.1.1 (from scikit-learn)\n",
      "  Downloading joblib-1.3.1-py3-none-any.whl (301 kB)\n",
      "                                              0.0/302.0 kB ? eta -:--:--\n",
      "     -------------------------------------- 302.0/302.0 kB 9.4 MB/s eta 0:00:00\n",
      "Collecting threadpoolctl>=2.0.0 (from scikit-learn)\n",
      "  Downloading threadpoolctl-3.2.0-py3-none-any.whl (15 kB)\n",
      "Installing collected packages: threadpoolctl, scipy, joblib, scikit-learn\n",
      "Successfully installed joblib-1.3.1 scikit-learn-1.3.0 scipy-1.11.1 threadpoolctl-3.2.0\n"
     ]
    }
   ],
   "source": [
    "!pip install scikit-learn"
   ]
  },
  {
   "cell_type": "code",
   "execution_count": 8,
   "id": "f039f9de",
   "metadata": {},
   "outputs": [],
   "source": [
    "import numpy as np\n",
    "import pandas as pd\n",
    "import itertools\n",
    "from sklearn.model_selection import train_test_split\n",
    "from sklearn.feature_extraction.text import TfidfVectorizer\n",
    "from sklearn.linear_model import PassiveAggressiveClassifier\n",
    "from sklearn.metrics import accuracy_score, confusion_matrix"
   ]
  },
  {
   "cell_type": "code",
   "execution_count": null,
   "id": "33ba7ba1",
   "metadata": {},
   "outputs": [],
   "source": []
  },
  {
   "cell_type": "code",
   "execution_count": 10,
   "id": "32cbd520",
   "metadata": {},
   "outputs": [
    {
     "data": {
      "text/html": [
       "<div>\n",
       "<style scoped>\n",
       "    .dataframe tbody tr th:only-of-type {\n",
       "        vertical-align: middle;\n",
       "    }\n",
       "\n",
       "    .dataframe tbody tr th {\n",
       "        vertical-align: top;\n",
       "    }\n",
       "\n",
       "    .dataframe thead th {\n",
       "        text-align: right;\n",
       "    }\n",
       "</style>\n",
       "<table border=\"1\" class=\"dataframe\">\n",
       "  <thead>\n",
       "    <tr style=\"text-align: right;\">\n",
       "      <th></th>\n",
       "      <th>Unnamed: 0</th>\n",
       "      <th>title</th>\n",
       "      <th>text</th>\n",
       "      <th>label</th>\n",
       "    </tr>\n",
       "  </thead>\n",
       "  <tbody>\n",
       "    <tr>\n",
       "      <th>0</th>\n",
       "      <td>8476</td>\n",
       "      <td>You Can Smell Hillary’s Fear</td>\n",
       "      <td>Daniel Greenfield, a Shillman Journalism Fello...</td>\n",
       "      <td>FAKE</td>\n",
       "    </tr>\n",
       "    <tr>\n",
       "      <th>1</th>\n",
       "      <td>10294</td>\n",
       "      <td>Watch The Exact Moment Paul Ryan Committed Pol...</td>\n",
       "      <td>Google Pinterest Digg Linkedin Reddit Stumbleu...</td>\n",
       "      <td>FAKE</td>\n",
       "    </tr>\n",
       "    <tr>\n",
       "      <th>2</th>\n",
       "      <td>3608</td>\n",
       "      <td>Kerry to go to Paris in gesture of sympathy</td>\n",
       "      <td>U.S. Secretary of State John F. Kerry said Mon...</td>\n",
       "      <td>REAL</td>\n",
       "    </tr>\n",
       "    <tr>\n",
       "      <th>3</th>\n",
       "      <td>10142</td>\n",
       "      <td>Bernie supporters on Twitter erupt in anger ag...</td>\n",
       "      <td>— Kaydee King (@KaydeeKing) November 9, 2016 T...</td>\n",
       "      <td>FAKE</td>\n",
       "    </tr>\n",
       "    <tr>\n",
       "      <th>4</th>\n",
       "      <td>875</td>\n",
       "      <td>The Battle of New York: Why This Primary Matters</td>\n",
       "      <td>It's primary day in New York and front-runners...</td>\n",
       "      <td>REAL</td>\n",
       "    </tr>\n",
       "  </tbody>\n",
       "</table>\n",
       "</div>"
      ],
      "text/plain": [
       "   Unnamed: 0                                              title  \\\n",
       "0        8476                       You Can Smell Hillary’s Fear   \n",
       "1       10294  Watch The Exact Moment Paul Ryan Committed Pol...   \n",
       "2        3608        Kerry to go to Paris in gesture of sympathy   \n",
       "3       10142  Bernie supporters on Twitter erupt in anger ag...   \n",
       "4         875   The Battle of New York: Why This Primary Matters   \n",
       "\n",
       "                                                text label  \n",
       "0  Daniel Greenfield, a Shillman Journalism Fello...  FAKE  \n",
       "1  Google Pinterest Digg Linkedin Reddit Stumbleu...  FAKE  \n",
       "2  U.S. Secretary of State John F. Kerry said Mon...  REAL  \n",
       "3  — Kaydee King (@KaydeeKing) November 9, 2016 T...  FAKE  \n",
       "4  It's primary day in New York and front-runners...  REAL  "
      ]
     },
     "execution_count": 10,
     "metadata": {},
     "output_type": "execute_result"
    }
   ],
   "source": [
    "#Read the data\n",
    "df=pd.read_csv('news.csv')\n",
    "\n",
    "#Get shape and head\n",
    "df.shape\n",
    "df.head()"
   ]
  },
  {
   "cell_type": "code",
   "execution_count": 11,
   "id": "e88550f2",
   "metadata": {},
   "outputs": [
    {
     "data": {
      "text/plain": [
       "0    FAKE\n",
       "1    FAKE\n",
       "2    REAL\n",
       "3    FAKE\n",
       "4    REAL\n",
       "Name: label, dtype: object"
      ]
     },
     "execution_count": 11,
     "metadata": {},
     "output_type": "execute_result"
    }
   ],
   "source": [
    "#DataFlair - Get the labels\n",
    "labels=df.label\n",
    "labels.head()"
   ]
  },
  {
   "cell_type": "code",
   "execution_count": 12,
   "id": "e7f3bc08",
   "metadata": {},
   "outputs": [],
   "source": [
    "#DataFlair - Split the dataset\n",
    "x_train,x_test,y_train,y_test=train_test_split(df['text'], labels, test_size=0.2, random_state=7)"
   ]
  },
  {
   "cell_type": "code",
   "execution_count": 13,
   "id": "3fa18b6f",
   "metadata": {},
   "outputs": [],
   "source": [
    "#DataFlair - Initialize a TfidfVectorizer\n",
    "tfidf_vectorizer=TfidfVectorizer(stop_words='english', max_df=0.7)\n",
    "\n",
    "#DataFlair - Fit and transform train set, transform test set\n",
    "tfidf_train=tfidf_vectorizer.fit_transform(x_train) \n",
    "tfidf_test=tfidf_vectorizer.transform(x_test)"
   ]
  },
  {
   "cell_type": "code",
   "execution_count": 14,
   "id": "a43648e5",
   "metadata": {},
   "outputs": [
    {
     "name": "stdout",
     "output_type": "stream",
     "text": [
      "Accuracy: 92.9%\n"
     ]
    }
   ],
   "source": [
    "#DataFlair - Initialize a PassiveAggressiveClassifier\n",
    "pac=PassiveAggressiveClassifier(max_iter=50)\n",
    "pac.fit(tfidf_train,y_train)\n",
    "\n",
    "#DataFlair - Predict on the test set and calculate accuracy\n",
    "y_pred=pac.predict(tfidf_test)\n",
    "score=accuracy_score(y_test,y_pred)\n",
    "print(f'Accuracy: {round(score*100,2)}%')"
   ]
  },
  {
   "cell_type": "code",
   "execution_count": 15,
   "id": "60936e4e",
   "metadata": {},
   "outputs": [
    {
     "data": {
      "text/plain": [
       "array([[589,  49],\n",
       "       [ 41, 588]], dtype=int64)"
      ]
     },
     "execution_count": 15,
     "metadata": {},
     "output_type": "execute_result"
    }
   ],
   "source": [
    "#DataFlair - Build confusion matrix\n",
    "confusion_matrix(y_test,y_pred, labels=['FAKE','REAL'])"
   ]
  },
  {
   "cell_type": "code",
   "execution_count": null,
   "id": "d24acb4d",
   "metadata": {},
   "outputs": [],
   "source": []
  },
  {
   "cell_type": "code",
   "execution_count": 16,
   "id": "728098d2",
   "metadata": {},
   "outputs": [
    {
     "name": "stdout",
     "output_type": "stream",
     "text": [
      "Collecting opencv-python\n",
      "  Downloading opencv_python-4.8.0.74-cp37-abi3-win_amd64.whl (38.1 MB)\n",
      "                                              0.0/38.1 MB ? eta -:--:--\n",
      "                                              0.3/38.1 MB 9.6 MB/s eta 0:00:04\n",
      "                                              0.8/38.1 MB 8.3 MB/s eta 0:00:05\n",
      "     -                                        1.1/38.1 MB 8.8 MB/s eta 0:00:05\n",
      "     -                                        1.6/38.1 MB 9.1 MB/s eta 0:00:05\n",
      "     -                                        1.9/38.1 MB 9.3 MB/s eta 0:00:04\n",
      "     --                                       2.4/38.1 MB 8.9 MB/s eta 0:00:05\n",
      "     ---                                      2.9/38.1 MB 9.1 MB/s eta 0:00:04\n",
      "     ---                                      3.3/38.1 MB 9.0 MB/s eta 0:00:04\n",
      "     ---                                      3.7/38.1 MB 9.1 MB/s eta 0:00:04\n",
      "     ----                                     4.1/38.1 MB 9.0 MB/s eta 0:00:04\n",
      "     ----                                     4.5/38.1 MB 9.0 MB/s eta 0:00:04\n",
      "     -----                                    4.9/38.1 MB 9.3 MB/s eta 0:00:04\n",
      "     -----                                    5.4/38.1 MB 9.1 MB/s eta 0:00:04\n",
      "     -----                                    5.4/38.1 MB 9.1 MB/s eta 0:00:04\n",
      "     ------                                   5.8/38.1 MB 8.7 MB/s eta 0:00:04\n",
      "     ------                                   6.3/38.1 MB 8.7 MB/s eta 0:00:04\n",
      "     -------                                  6.7/38.1 MB 8.7 MB/s eta 0:00:04\n",
      "     -------                                  7.0/38.1 MB 8.7 MB/s eta 0:00:04\n",
      "     -------                                  7.6/38.1 MB 8.8 MB/s eta 0:00:04\n",
      "     --------                                 7.9/38.1 MB 8.7 MB/s eta 0:00:04\n",
      "     --------                                 8.5/38.1 MB 8.9 MB/s eta 0:00:04\n",
      "     ---------                                8.8/38.1 MB 8.8 MB/s eta 0:00:04\n",
      "     ---------                                9.3/38.1 MB 8.9 MB/s eta 0:00:04\n",
      "     ----------                               9.6/38.1 MB 8.8 MB/s eta 0:00:04\n",
      "     ----------                               9.9/38.1 MB 8.8 MB/s eta 0:00:04\n",
      "     ----------                               10.3/38.1 MB 8.7 MB/s eta 0:00:04\n",
      "     -----------                              10.6/38.1 MB 8.7 MB/s eta 0:00:04\n",
      "     -----------                              10.9/38.1 MB 8.5 MB/s eta 0:00:04\n",
      "     -----------                              11.3/38.1 MB 8.6 MB/s eta 0:00:04\n",
      "     ------------                             11.7/38.1 MB 8.4 MB/s eta 0:00:04\n",
      "     ------------                             12.0/38.1 MB 8.4 MB/s eta 0:00:04\n",
      "     -------------                            12.5/38.1 MB 8.5 MB/s eta 0:00:04\n",
      "     -------------                            12.9/38.1 MB 8.6 MB/s eta 0:00:03\n",
      "     -------------                            13.3/38.1 MB 8.5 MB/s eta 0:00:03\n",
      "     --------------                           13.8/38.1 MB 8.5 MB/s eta 0:00:03\n",
      "     ---------------                          14.3/38.1 MB 8.6 MB/s eta 0:00:03\n",
      "     ---------------                          14.8/38.1 MB 8.6 MB/s eta 0:00:03\n",
      "     ----------------                         15.3/38.1 MB 8.6 MB/s eta 0:00:03\n",
      "     ----------------                         15.8/38.1 MB 9.1 MB/s eta 0:00:03\n",
      "     -----------------                        16.3/38.1 MB 9.2 MB/s eta 0:00:03\n",
      "     -----------------                        16.8/38.1 MB 9.2 MB/s eta 0:00:03\n",
      "     ------------------                       17.3/38.1 MB 9.4 MB/s eta 0:00:03\n",
      "     ------------------                       17.5/38.1 MB 9.1 MB/s eta 0:00:03\n",
      "     ------------------                       18.0/38.1 MB 9.0 MB/s eta 0:00:03\n",
      "     -------------------                      18.1/38.1 MB 9.0 MB/s eta 0:00:03\n",
      "     -------------------                      18.6/38.1 MB 8.8 MB/s eta 0:00:03\n",
      "     --------------------                     19.1/38.1 MB 9.0 MB/s eta 0:00:03\n",
      "     --------------------                     19.6/38.1 MB 9.0 MB/s eta 0:00:03\n",
      "     ---------------------                    20.2/38.1 MB 9.1 MB/s eta 0:00:02\n",
      "     ---------------------                    20.7/38.1 MB 9.4 MB/s eta 0:00:02\n",
      "     ----------------------                   21.2/38.1 MB 9.5 MB/s eta 0:00:02\n",
      "     ----------------------                   21.8/38.1 MB 9.9 MB/s eta 0:00:02\n",
      "     ----------------------                  22.3/38.1 MB 10.1 MB/s eta 0:00:02\n",
      "     -----------------------                 22.9/38.1 MB 10.2 MB/s eta 0:00:02\n",
      "     ------------------------                23.4/38.1 MB 10.1 MB/s eta 0:00:02\n",
      "     ------------------------                24.0/38.1 MB 10.1 MB/s eta 0:00:02\n",
      "     -------------------------               24.4/38.1 MB 10.4 MB/s eta 0:00:02\n",
      "     -------------------------               25.0/38.1 MB 10.4 MB/s eta 0:00:02\n",
      "     --------------------------              25.4/38.1 MB 10.2 MB/s eta 0:00:02\n",
      "     --------------------------              26.0/38.1 MB 10.4 MB/s eta 0:00:02\n",
      "     ---------------------------             26.5/38.1 MB 10.4 MB/s eta 0:00:02\n",
      "     ---------------------------             27.0/38.1 MB 10.4 MB/s eta 0:00:02\n",
      "     ----------------------------            27.6/38.1 MB 10.6 MB/s eta 0:00:01\n",
      "     ----------------------------            28.1/38.1 MB 10.9 MB/s eta 0:00:01\n",
      "     -----------------------------           28.6/38.1 MB 11.3 MB/s eta 0:00:01\n",
      "     -----------------------------           29.2/38.1 MB 11.3 MB/s eta 0:00:01\n",
      "     ------------------------------          29.7/38.1 MB 11.1 MB/s eta 0:00:01\n",
      "     ------------------------------          30.2/38.1 MB 11.3 MB/s eta 0:00:01\n",
      "     -------------------------------         30.7/38.1 MB 11.3 MB/s eta 0:00:01\n",
      "     --------------------------------        31.3/38.1 MB 11.1 MB/s eta 0:00:01\n",
      "     --------------------------------        31.8/38.1 MB 11.3 MB/s eta 0:00:01\n",
      "     ---------------------------------       32.3/38.1 MB 11.3 MB/s eta 0:00:01\n",
      "     ---------------------------------       32.8/38.1 MB 11.1 MB/s eta 0:00:01\n",
      "     ----------------------------------      33.4/38.1 MB 11.3 MB/s eta 0:00:01\n",
      "     ----------------------------------      33.9/38.1 MB 11.3 MB/s eta 0:00:01\n",
      "     -----------------------------------     34.4/38.1 MB 10.9 MB/s eta 0:00:01\n",
      "     -----------------------------------     35.0/38.1 MB 11.1 MB/s eta 0:00:01\n",
      "     ------------------------------------    35.5/38.1 MB 11.1 MB/s eta 0:00:01\n",
      "     -------------------------------------   36.1/38.1 MB 11.1 MB/s eta 0:00:01\n",
      "     -------------------------------------   36.7/38.1 MB 11.1 MB/s eta 0:00:01\n",
      "     --------------------------------------  37.2/38.1 MB 11.3 MB/s eta 0:00:01\n",
      "     --------------------------------------  37.7/38.1 MB 11.1 MB/s eta 0:00:01\n",
      "     --------------------------------------  38.1/38.1 MB 11.1 MB/s eta 0:00:01\n",
      "     --------------------------------------  38.1/38.1 MB 11.1 MB/s eta 0:00:01\n",
      "     --------------------------------------  38.1/38.1 MB 11.1 MB/s eta 0:00:01\n",
      "     ---------------------------------------- 38.1/38.1 MB 9.5 MB/s eta 0:00:00\n",
      "Requirement already satisfied: numpy>=1.21.2 in c:\\users\\lenovo\\appdata\\local\\programs\\python\\python311\\lib\\site-packages (from opencv-python) (1.25.1)\n",
      "Installing collected packages: opencv-python\n",
      "Successfully installed opencv-python-4.8.0.74\n",
      "Note: you may need to restart the kernel to use updated packages.\n"
     ]
    }
   ],
   "source": [
    "pip install opencv-python\n"
   ]
  },
  {
   "cell_type": "code",
   "execution_count": null,
   "id": "8dedbfc7",
   "metadata": {},
   "outputs": [],
   "source": [
    "  "
   ]
  }
 ],
 "metadata": {
  "kernelspec": {
   "display_name": "Python 3 (ipykernel)",
   "language": "python",
   "name": "python3"
  },
  "language_info": {
   "codemirror_mode": {
    "name": "ipython",
    "version": 3
   },
   "file_extension": ".py",
   "mimetype": "text/x-python",
   "name": "python",
   "nbconvert_exporter": "python",
   "pygments_lexer": "ipython3",
   "version": "3.11.4"
  }
 },
 "nbformat": 4,
 "nbformat_minor": 5
}
